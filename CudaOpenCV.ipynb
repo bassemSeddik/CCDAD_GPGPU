{
  "nbformat": 4,
  "nbformat_minor": 0,
  "metadata": {
    "colab": {
      "name": "CudaOpenCV.ipynb",
      "provenance": [],
      "collapsed_sections": [],
      "mount_file_id": "1I97tg_gKqFNYn_hdbSslq2YrxKmsvFkk",
      "authorship_tag": "ABX9TyPVW/4cXfHtxXinI3plo33Z",
      "include_colab_link": true
    },
    "kernelspec": {
      "name": "python3",
      "display_name": "Python 3"
    },
    "accelerator": "GPU"
  },
  "cells": [
    {
      "cell_type": "markdown",
      "metadata": {
        "id": "view-in-github",
        "colab_type": "text"
      },
      "source": [
        "<a href=\"https://colab.research.google.com/github/bassemSeddik/CCDAD_GPGPU/blob/master/CudaOpenCV.ipynb\" target=\"_parent\"><img src=\"https://colab.research.google.com/assets/colab-badge.svg\" alt=\"Open In Colab\"/></a>"
      ]
    },
    {
      "cell_type": "markdown",
      "metadata": {
        "id": "8T9hU0-LayS8",
        "colab_type": "text"
      },
      "source": [
        "# CUDA install"
      ]
    },
    {
      "cell_type": "code",
      "metadata": {
        "id": "MsK9AOGqV4Hj",
        "colab_type": "code",
        "colab": {}
      },
      "source": [
        "!apt-get --purge remove cuda nvidia* libnvidia-*\n",
        "!dpkg -l | grep cuda- | awk '{print $2}' | xargs -n1 dpkg --purge\n",
        "!apt-get remove cuda-*\n",
        "!apt autoremove\n",
        "!apt-get update\n",
        "\n",
        "!wget https://developer.nvidia.com/compute/cuda/9.2/Prod/local_installers/cuda-repo-ubuntu1604-9-2-local_9.2.88-1_amd64 -O cuda-repo-ubuntu1604-9-2-local_9.2.88-1_amd64.deb\n",
        "!dpkg -i cuda-repo-ubuntu1604-9-2-local_9.2.88-1_amd64.deb\n",
        "!apt-key add /var/cuda-repo-9-2-local/7fa2af80.pub\n",
        "!apt-get update\n",
        "!apt-get install cuda-9.2\n",
        "\n",
        "!pip install git+git://github.com/andreinechaev/nvcc4jupyter.git\n",
        "%load_ext nvcc_plugin\n",
        "\n",
        "!nvcc --version"
      ],
      "execution_count": 0,
      "outputs": []
    },
    {
      "cell_type": "markdown",
      "metadata": {
        "id": "WwHBvFt2a2nD",
        "colab_type": "text"
      },
      "source": [
        "# OpenCV install"
      ]
    },
    {
      "cell_type": "code",
      "metadata": {
        "id": "Gs7A4HcNaEKz",
        "colab_type": "code",
        "colab": {}
      },
      "source": [
        "!apt-get install -qq gcc-5 g++-5 -y\n",
        "!ln -s /usr/bin/gcc-5 \n",
        "!ln -s /usr/bin/g++-5 \n",
        "\n",
        "!sudo apt-get update\n",
        "!sudo apt-get upgrade\n",
        "\n",
        "#Install Dependencies\n",
        "!sudo apt-get install -y build-essential \n",
        "!sudo apt-get install -y cmake git libgtk2.0-dev pkg-config libavcodec-dev libavformat-dev libswscale-dev\n",
        "\n",
        "#The following command is needed to process images:\n",
        "!sudo apt-get install -y python-dev python-numpy libtbb2 libtbb-dev libjpeg-dev libpng-dev libtiff-dev libjasper-dev libdc1394-22-dev\n",
        "#To process videos:\n",
        "!sudo apt-get install -y libavcodec-dev libavformat-dev libswscale-dev libv4l-dev\n",
        "!sudo apt-get install -y libxvidcore-dev libx264-dev\n",
        "\n",
        "#For GUI:\n",
        "!sudo apt-get install -y libgtk-3-dev\n",
        "#For optimization:\n",
        "!sudo apt-get install -y libatlas-base-dev gfortran pylint\n",
        "!wget https://github.com/opencv/opencv/archive/3.4.0.zip -O opencv-3.4.0.zip\n",
        "!sudo apt-get install unzip\n",
        "!unzip opencv-3.4.0.zip\n",
        "%cd opencv-3.4.0\n",
        "!mkdir build\n",
        "%cd build\n",
        "!cmake -D WITH_TBB=ON -D WITH_OPENMP=ON -D WITH_IPP=ON -D CMAKE_BUILD_TYPE=RELEASE -D BUILD_EXAMPLES=OFF -D WITH_NVCUVID=ON -D WITH_CUDA=OFF -D BUILD_DOCS=OFF -D BUILD_PERF_TESTS=OFF -D BUILD_TESTS=OFF -D WITH_CSTRIPES=ON -D WITH_OPENCL=ON CMAKE_INSTALL_PREFIX=/usr/local/ ..\n",
        "!make -j`nproc`\n",
        "!sudo make install"
      ],
      "execution_count": 0,
      "outputs": []
    },
    {
      "cell_type": "markdown",
      "metadata": {
        "id": "6bCyOgeDeCxT",
        "colab_type": "text"
      },
      "source": [
        "# Test Samples files"
      ]
    },
    {
      "cell_type": "code",
      "metadata": {
        "id": "EtsFFpQtdJit",
        "colab_type": "code",
        "colab": {}
      },
      "source": [
        "%cd /usr/local/cuda-9.2/samples/0_Simple/vectorAdd/\n",
        "%ls\n",
        "!make\n",
        "!./vectorAdd"
      ],
      "execution_count": 0,
      "outputs": []
    },
    {
      "cell_type": "markdown",
      "metadata": {
        "id": "5PmELZEna6gI",
        "colab_type": "text"
      },
      "source": [
        "# ProblemSet N°1 start"
      ]
    },
    {
      "cell_type": "code",
      "metadata": {
        "id": "Wq5VrXt7UZzp",
        "colab_type": "code",
        "colab": {}
      },
      "source": [
        "%cd /content/\n",
        "!git clone https://github.com/bassemSeddik/CCDAD_GPGPU.git\n",
        "#!unzip ProblemSet1_try01.zip\n",
        "%cd ProblemSet1_try01/ProblemSet1_try01\n",
        "!export /usr/local/cuda-9.2/bin${PATH:+:${PATH}}\n",
        "!export LD_LIBRARY_PATH=/usr/local/cuda-9.2/lib64\\${LD_LIBRARY_PATH:+:${LD_LIBRARY_PATH}}\n",
        "%ls"
      ],
      "execution_count": 0,
      "outputs": []
    },
    {
      "cell_type": "code",
      "metadata": {
        "id": "UKLlkYPZgZEt",
        "colab_type": "code",
        "colab": {}
      },
      "source": [
        "#%cd CCDAD_GPGPU/Lesson\\ 1\\ Code\\ Snippets\n",
        "%cd ProblemSet1_try01/ProblemSet1_try01/\n",
        "!touch /etc/ld.so.conf.d/opencv.conf\n",
        "!echo \"/usr/local/lib/\" >> /etc/ld.so.conf.d/opencv.conf\n",
        "!sudo ldconfig -v"
      ],
      "execution_count": 0,
      "outputs": []
    },
    {
      "cell_type": "code",
      "metadata": {
        "id": "k25MLSCOCDcf",
        "colab_type": "code",
        "colab": {
          "base_uri": "https://localhost:8080/",
          "height": 85
        },
        "outputId": "57be5afd-ace4-46de-bd01-77ce09abfe41"
      },
      "source": [
        "!./HW1 cinque_terre_small.jpg"
      ],
      "execution_count": 97,
      "outputs": [
        {
          "output_type": "stream",
          "text": [
            "Your code ran in: 0.029344 msecs.\n",
            "Difference at pos 16\n",
            "Reference: 255\n",
            "GPU      : 0\n"
          ],
          "name": "stdout"
        }
      ]
    },
    {
      "cell_type": "markdown",
      "metadata": {
        "id": "NiHaD1TXCTZM",
        "colab_type": "text"
      },
      "source": [
        " Here is the oiginal image file\n",
        "![alt text](https:///content/CCDAD_GPGPU/ProblemSet1_try01/HW1_reference.png)\n",
        "\n"
      ]
    }
  ]
}